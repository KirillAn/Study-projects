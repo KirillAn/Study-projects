{
 "cells": [
  {
   "cell_type": "markdown",
   "metadata": {},
   "source": [
    "## Исследование надёжности заёмщиков\n",
    "\n",
    "Заказчик — кредитный отдел банка. Нужно разобраться, влияет ли семейное положение и количество детей клиента на факт погашения кредита в срок. Входные данные от банка — статистика о платёжеспособности клиентов.\n",
    "\n",
    "Результаты исследования будут учтены при построении модели **кредитного скоринга** — специальной системы, которая оценивает способность потенциального заёмщика вернуть кредит банку."
   ]
  },
  {
   "cell_type": "markdown",
   "metadata": {},
   "source": [
    "1) Откроем файл с данными и изучим общую информацию. "
   ]
  },
  {
   "cell_type": "code",
   "execution_count": 14,
   "metadata": {},
   "outputs": [
    {
     "name": "stdout",
     "output_type": "stream",
     "text": [
      "<class 'pandas.core.frame.DataFrame'>\n",
      "RangeIndex: 21525 entries, 0 to 21524\n",
      "Data columns (total 12 columns):\n",
      "children            21525 non-null int64\n",
      "days_employed       19351 non-null float64\n",
      "dob_years           21525 non-null int64\n",
      "education           21525 non-null object\n",
      "education_id        21525 non-null int64\n",
      "family_status       21525 non-null object\n",
      "family_status_id    21525 non-null int64\n",
      "gender              21525 non-null object\n",
      "income_type         21525 non-null object\n",
      "debt                21525 non-null int64\n",
      "total_income        19351 non-null float64\n",
      "purpose             21525 non-null object\n",
      "dtypes: float64(2), int64(5), object(5)\n",
      "memory usage: 2.0+ MB\n"
     ]
    }
   ],
   "source": [
    "import pandas as pd\n",
    "data = pd.read_csv('/datasets/data.csv')\n",
    "data.info()\n",
    "#print(data.head(50))"
   ]
  },
  {
   "cell_type": "markdown",
   "metadata": {},
   "source": [
    "### Вывод"
   ]
  },
  {
   "cell_type": "markdown",
   "metadata": {},
   "source": [
    "данных в столбцах days_employed и total_income меньше, т.е. скорее всего есть пропуски. смущает тип float в этих же столбцах. также надо обоатить внимание на данные в столбце days_employed"
   ]
  },
  {
   "cell_type": "markdown",
   "metadata": {},
   "source": [
    "2) Предобработка данных"
   ]
  },
  {
   "cell_type": "markdown",
   "metadata": {},
   "source": [
    "### Обработка пропусков"
   ]
  },
  {
   "cell_type": "code",
   "execution_count": 15,
   "metadata": {},
   "outputs": [
    {
     "name": "stdout",
     "output_type": "stream",
     "text": [
      "income_type\n",
      "безработный        131339.751676\n",
      "в декрете           53829.130729\n",
      "госслужащий        170898.309923\n",
      "компаньон          202417.461462\n",
      "пенсионер          137127.465690\n",
      "предприниматель    499163.144947\n",
      "сотрудник          161380.260488\n",
      "студент             98201.625314\n",
      "Name: total_income, dtype: float64\n"
     ]
    }
   ],
   "source": [
    "#print(data['total_income'].isnull().sum())\n",
    "\n",
    "mean_total_income = data.groupby('income_type')['total_income'].mean()\n",
    "\n",
    "data.loc[(data['total_income'].isnull()) & (data['income_type'] == 'сотрудник'), 'total_income'] = mean_total_income[6]\n",
    "data.loc[(data['total_income'].isnull()) & (data['income_type'] == 'компаньон'), 'total_income'] = mean_total_income[3]\n",
    "data.loc[(data['total_income'].isnull()) & (data['income_type'] == 'пенсионер'), 'total_income'] = mean_total_income[4]\n",
    "data.loc[(data['total_income'].isnull()) & (data['income_type'] == 'госслужащий'), 'total_income'] = mean_total_income[2]\n",
    "data.loc[(data['total_income'].isnull()) & (data['income_type'] == 'предприниматель'), 'total_income'] = mean_total_income[5]\n",
    "\n",
    "\n",
    "#data['total_income'] = data['total_income'].fillna(data.groupby('income_type')['total_income'].transform('median'))\n",
    "\n"
   ]
  },
  {
   "cell_type": "markdown",
   "metadata": {},
   "source": [
    "### Вывод"
   ]
  },
  {
   "cell_type": "markdown",
   "metadata": {},
   "source": [
    "пропуски есть в days_employed(общий трудовой стаж) и total_income (ежемесячный доход). для задания нас интересует total_income, поэтому для заполнения пропусков найдем средний заработок по роду деятельности (income_type) и именно средним значением заполним пропуски"
   ]
  },
  {
   "cell_type": "markdown",
   "metadata": {},
   "source": [
    "### Замена типа данных"
   ]
  },
  {
   "cell_type": "code",
   "execution_count": 16,
   "metadata": {},
   "outputs": [
    {
     "name": "stdout",
     "output_type": "stream",
     "text": [
      "<class 'pandas.core.frame.DataFrame'>\n",
      "RangeIndex: 21525 entries, 0 to 21524\n",
      "Data columns (total 12 columns):\n",
      "children            21525 non-null int64\n",
      "days_employed       19351 non-null float64\n",
      "dob_years           21525 non-null int64\n",
      "education           21525 non-null object\n",
      "education_id        21525 non-null int64\n",
      "family_status       21525 non-null object\n",
      "family_status_id    21525 non-null int64\n",
      "gender              21525 non-null object\n",
      "income_type         21525 non-null object\n",
      "debt                21525 non-null int64\n",
      "total_income        21525 non-null int64\n",
      "purpose             21525 non-null object\n",
      "dtypes: float64(1), int64(6), object(5)\n",
      "memory usage: 2.0+ MB\n"
     ]
    }
   ],
   "source": [
    "\n",
    "\n",
    "#data['total_income'] = data['total_income'].astype('int')\n",
    "data['total_income'] = pd.to_numeric(data['total_income'], errors = 'coerce')\n",
    "data['total_income'] = data['total_income'].astype('int')\n",
    "data.info()\n"
   ]
  },
  {
   "cell_type": "markdown",
   "metadata": {},
   "source": [
    "### Вывод"
   ]
  },
  {
   "cell_type": "markdown",
   "metadata": {},
   "source": [
    "сначала я перевел все строковые значения в числа, а затем float перевел в int (нас интересует столбец total_income)"
   ]
  },
  {
   "cell_type": "markdown",
   "metadata": {},
   "source": [
    "### Обработка дубликатов"
   ]
  },
  {
   "cell_type": "code",
   "execution_count": 17,
   "metadata": {},
   "outputs": [],
   "source": [
    "\n",
    "data['education'] = data['education'].str.lower()\n",
    "data['family_status'] = data['family_status'].str.lower()\n",
    "\n",
    "#print(data.duplicated().sum())\n",
    "#data[\"is_duplicate\"] = data.duplicated(keep=False)\n",
    "#data_filter_dublicates = data[ (data['is_duplicate'] == True)]\n",
    "#print(data_filter_dublicates.sort_values(by='total_income').head(25))\n",
    "data = data.drop_duplicates().reset_index(drop = True)\n",
    "\n",
    "#Еще один способо как быстро переименовать все колонки\n",
    "#data.columns = [col.lower().replace(' ', '_') for col in data.columns]\n"
   ]
  },
  {
   "cell_type": "markdown",
   "metadata": {},
   "source": [
    "### Вывод"
   ]
  },
  {
   "cell_type": "markdown",
   "metadata": {},
   "source": [
    "приведя к единому регистру 'education' мы упростим себе задачу в будушем. "
   ]
  },
  {
   "cell_type": "markdown",
   "metadata": {},
   "source": [
    "### Лемматизация"
   ]
  },
  {
   "cell_type": "code",
   "execution_count": 18,
   "metadata": {},
   "outputs": [
    {
     "name": "stdout",
     "output_type": "stream",
     "text": [
      "недвижимость    6351\n",
      "жилье           4460\n",
      "автомобиль      4306\n",
      "образование     4013\n",
      "свадьба         2324\n",
      "Name: new_purpose, dtype: int64\n"
     ]
    }
   ],
   "source": [
    "from pymystem3 import Mystem\n",
    "m = Mystem()\n",
    "\n",
    "purposes = ', '.join(data['purpose'].unique())\n",
    "lemm_purposes = m.lemmatize(purposes)\n",
    "data['lem_purpose'] = data['purpose'].apply(m.lemmatize)\n",
    "from collections import Counter\n",
    "#print(Counter(lemm_purposes))\n",
    "lemm_purposes = ['недвижимость', 'автомобиль', 'образование', 'жилье', 'свадьба']\n",
    "def find_purpose(data):\n",
    "    \n",
    "    for purpose in lemm_purposes:\n",
    "           if purpose in data: \n",
    "            return purpose\n",
    "data['new_purpose'] = data['lem_purpose'].apply(find_purpose)\n",
    "print(data['new_purpose'].value_counts())\n",
    "\n"
   ]
  },
  {
   "cell_type": "markdown",
   "metadata": {},
   "source": [
    "### Вывод"
   ]
  },
  {
   "cell_type": "markdown",
   "metadata": {},
   "source": [
    "нам нужно понять для каких целей брали кредит. естественно все заемщики по разному написали цели, но если мы посморим уникальные значения столбца 'purpose', то уидим, что есть много похожих целей, нам надо их выделить. для этого лемматизируем данные столбца 'purpose'. чтобы lemmatize вопринимала данные столбца, нужно привести его в строчное значение с помощью метода .join(). затем применить лемматизацию и посчитать количество уникальных слов. после этого составим из нужных слов (целей) словарь и к нему применим функцию, которая отсортирует лемматизированныне данные столбца purpose по словам из нашего словаря"
   ]
  },
  {
   "cell_type": "markdown",
   "metadata": {},
   "source": [
    "### Категоризация данных"
   ]
  },
  {
   "cell_type": "code",
   "execution_count": null,
   "metadata": {},
   "outputs": [],
   "source": [
    "def parenthood(children):\n",
    "    if children == 0:\n",
    "        return '0'\n",
    "    if children == 1:\n",
    "        return '1'\n",
    "    if children == -1:\n",
    "        return '1'\n",
    "    if children == 2:\n",
    "        return '2'\n",
    "    if children == 20:\n",
    "        return '2'\n",
    "    if children == 3:\n",
    "        return '3'\n",
    "    if children == 4:\n",
    "        return '4'\n",
    "    if children == 5:\n",
    "        return '5'\n",
    "    return 'ошибка'\n",
    "\n",
    "data['parenthood'] = data['children'].apply(parenthood)\n",
    "\n",
    "#print(data['total_income'].max()) - 2265604\n",
    "#print(data['total_income'].min()) - 20667\n",
    "#print(data['total_income'].median()) - 151887.0\n",
    "#print(len(data)) - 21454\n",
    "\n",
    "#print(data['total_income'].value_counts().head(50)): 1071 клиентов имеют заработок 161380; 501 - 202417; 386 - 137127; 145 - 170898\n",
    "#поэтому предположим, что планка срднего дохода 200000, а меньше 100000 это низкий доход\n",
    "\n",
    "def income_type (total_income):\n",
    "    if total_income <= 100000:\n",
    "        return 'низкий доход'\n",
    "    if total_income <= 200000:\n",
    "        return 'средний доход'\n",
    "    return 'высокий доход'\n",
    "data['income_level'] = data['total_income'].apply(income_type)\n",
    "\n",
    "print(data['income_level'].value_counts())\n",
    "inc_purp = data[['income_level', 'new_purpose']]\n",
    "\n",
    "\n"
   ]
  },
  {
   "cell_type": "markdown",
   "metadata": {},
   "source": [
    "### Вывод"
   ]
  },
  {
   "cell_type": "markdown",
   "metadata": {},
   "source": [
    "в столбце children имеются два страных показателя: -1 и 20. предположим, что это ошибка оператора и -1 это 1, а 20 это 2\n",
    "добавим в data новый столбец parenthood с измененными данными"
   ]
  },
  {
   "cell_type": "markdown",
   "metadata": {},
   "source": [
    "3) Попробуем ответить на некоторые вопросы"
   ]
  },
  {
   "cell_type": "markdown",
   "metadata": {},
   "source": [
    "- Есть ли зависимость между наличием детей и возвратом кредита в срок?"
   ]
  },
  {
   "cell_type": "code",
   "execution_count": 126,
   "metadata": {},
   "outputs": [
    {
     "name": "stdout",
     "output_type": "stream",
     "text": [
      "Четыре ребенка: 9.8%\n",
      "Два ребенка: 9.5%\n",
      "Один ребенок: 9.2%\n",
      "Три ребенка: 8.2%\n",
      "Нет детей: 7.5%\n",
      "Пять детей: 0.0%\n"
     ]
    }
   ],
   "source": [
    "data_grouped = data.groupby('parenthood').agg({'debt':'mean'})\n",
    "#print(data_grouped.sort_values(by = 'debt', ascending = False)) - 4           0.097561; 2           0.094925; 1           0.091658; 3           0.081818; 0           0.075438; 5           0.000000\n",
    "\n",
    "four = 0.097561\n",
    "two = 0.094925\n",
    "one = 0.091658\n",
    "three = 0.081818\n",
    "zero = 0.075438\n",
    "five = 0.000000\n",
    "print('Четыре ребенка: {:.1%}'.format(four))\n",
    "print('Два ребенка: {:.1%}'.format(two))\n",
    "print('Один ребенок: {:.1%}'.format(one))\n",
    "print('Три ребенка: {:.1%}'.format(three))\n",
    "print('Нет детей: {:.1%}'.format(zero))\n",
    "print('Пять детей: {:.1%}'.format(five))\n"
   ]
  },
  {
   "cell_type": "markdown",
   "metadata": {},
   "source": [
    "### Вывод"
   ]
  },
  {
   "cell_type": "markdown",
   "metadata": {},
   "source": [
    "получается, что семьи с детьми действительно чаще испытывают проблемы с погашением кредитов в срок"
   ]
  },
  {
   "cell_type": "markdown",
   "metadata": {},
   "source": [
    "- Есть ли зависимость между семейным положением и возвратом кредита в срок?"
   ]
  },
  {
   "cell_type": "code",
   "execution_count": 125,
   "metadata": {},
   "outputs": [
    {
     "name": "stdout",
     "output_type": "stream",
     "text": [
      "В разводе: 7.1%\n",
      "Вдова/вдовец: 6.6%\n",
      "Гражданский брак: 9.3%\n",
      "Женат/замужем: 7.5%\n",
      "Не женат/не замужем: 9.8%\n"
     ]
    }
   ],
   "source": [
    "data_grouped_fam = data.groupby('family_status').agg({'debt' : 'mean'})\n",
    "#print(data_grouped_fam) - в разводе              0.071130; вдовец / вдова         0.065693; гражданский брак       0.093471;женат / замужем        0.075452;не женат / не замужем  0.097509\n",
    "div = 0.071130\n",
    "wid = 0.065693\n",
    "civ = 0.093471\n",
    "mar = 0.075452\n",
    "single = 0.097509\n",
    "\n",
    "print('В разводе: {:.1%}'.format(div))\n",
    "print('Вдова/вдовец: {:.1%}'.format(wid))\n",
    "print('Гражданский брак: {:.1%}'.format(civ))\n",
    "print('Женат/замужем: {:.1%}'.format(mar))\n",
    "print('Не женат/не замужем: {:.1%}'.format(single))\n",
    "\n",
    "\n",
    "\n",
    "\n",
    "        "
   ]
  },
  {
   "cell_type": "markdown",
   "metadata": {},
   "source": [
    "### Вывод"
   ]
  },
  {
   "cell_type": "markdown",
   "metadata": {},
   "source": [
    "у людей, которые состоят/состояли (в разводе, вдовы) в браке гораздо меньше проблем с погашением кредита"
   ]
  },
  {
   "cell_type": "markdown",
   "metadata": {},
   "source": [
    "- Есть ли зависимость между уровнем дохода и возвратом кредита в срок?"
   ]
  },
  {
   "cell_type": "code",
   "execution_count": 124,
   "metadata": {},
   "outputs": [
    {
     "name": "stdout",
     "output_type": "stream",
     "text": [
      "Низкий доход: 7.9%\n",
      "Средний доход: 8.7%\n",
      "Высокий доход: 7.0%\n"
     ]
    }
   ],
   "source": [
    "data_grouped_inc = data.groupby('income_level').agg({'debt' : 'mean'})\n",
    "\n",
    "#print(data_grouped_inc) - высокий доход  0.069684; низкий доход   0.079319; средний доход  0.087455\n",
    "low = 0.079319\n",
    "middle = 0.087455\n",
    "high = 0.069684\n",
    "print('Низкий доход: {:.1%}'.format(low))\n",
    "print('Средний доход: {:.1%}'.format(middle))\n",
    "print('Высокий доход: {:.1%}'.format(high))"
   ]
  },
  {
   "cell_type": "markdown",
   "metadata": {},
   "source": [
    "### Вывод"
   ]
  },
  {
   "cell_type": "markdown",
   "metadata": {},
   "source": [
    "Прямой зависимости нет, но можно предположить, что люди с низким доходом более обдуманно подходят к кредитам"
   ]
  },
  {
   "cell_type": "markdown",
   "metadata": {},
   "source": [
    "- Как разные цели кредита влияют на его возврат в срок?"
   ]
  },
  {
   "cell_type": "code",
   "execution_count": 122,
   "metadata": {},
   "outputs": [
    {
     "name": "stdout",
     "output_type": "stream",
     "text": [
      "Авто: 9.4%\n",
      "Жилье: 6.9%\n",
      "Недвижимость: 7.5%\n",
      "Образование: 9.2%\n",
      "Свадьба: 8.0%\n"
     ]
    }
   ],
   "source": [
    "#pivot_table\n",
    "data_grouped_purp = data.groupby('new_purpose').agg({'debt' : 'mean'})\n",
    "#print(data_grouped_purp) - автомобиль    0.093590; жилье         0.069058;недвижимость  0.074634;образование   0.092200;свадьба       0.080034\n",
    "car = 0.093590\n",
    "home = 0.069058\n",
    "est = 0.074634\n",
    "edu = 0.092200\n",
    "wedding = 0.080034\n",
    "print('Авто: {:.1%}'.format(car))\n",
    "print('Жилье: {:.1%}'.format(home))\n",
    "print('Недвижимость: {:.1%}'.format(est))\n",
    "print('Образование: {:.1%}'.format(edu))\n",
    "print('Свадьба: {:.1%}'.format(wedding))\n"
   ]
  },
  {
   "cell_type": "markdown",
   "metadata": {},
   "source": [
    "### Вывод"
   ]
  },
  {
   "cell_type": "markdown",
   "metadata": {},
   "source": [
    "Те, кто брал кредит для покупки автомобиля испытывали больше всего трудностей с выплатами. Не все хорошо и с кредитами на образование. А вот кредиты на жилье и на недвижимость выплачивались более исправно. Получается, что более крупные кредиты - а кредиты на операции с недвижимостью и жильем как правило крупные - брались людьми, которые могут стабильно платить деньги, что логично"
   ]
  },
  {
   "cell_type": "markdown",
   "metadata": {},
   "source": [
    "4) Общий вывод"
   ]
  },
  {
   "cell_type": "markdown",
   "metadata": {},
   "source": [
    "Можно сказать, что семейное положение и наличие детй влияют на способность отдавать кредиты. Наличие детей, судя по цифрам, действительно влияет в худшую сторону на погашение кредитов, но брак наоборот - в лучшую.  "
   ]
  }
 ],
 "metadata": {
  "kernelspec": {
   "display_name": "Python 3",
   "language": "python",
   "name": "python3"
  },
  "language_info": {
   "codemirror_mode": {
    "name": "ipython",
    "version": 3
   },
   "file_extension": ".py",
   "mimetype": "text/x-python",
   "name": "python",
   "nbconvert_exporter": "python",
   "pygments_lexer": "ipython3",
   "version": "3.7.6"
  }
 },
 "nbformat": 4,
 "nbformat_minor": 2
}
